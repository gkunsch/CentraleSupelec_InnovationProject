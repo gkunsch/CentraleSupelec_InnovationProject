{
 "cells": [
  {
   "cell_type": "markdown",
   "metadata": {
    "colab_type": "text",
    "id": "dWaaEN_LIngL"
   },
   "source": [
    "# Importation des données."
   ]
  },
  {
   "cell_type": "markdown",
   "metadata": {
    "colab_type": "raw",
    "id": "Igynuct2IngS"
   },
   "source": [
    "On commence par importer les modules dont on a besoin."
   ]
  },
  {
   "cell_type": "code",
   "execution_count": 20,
   "metadata": {
    "colab": {},
    "colab_type": "code",
    "id": "W8d2o1wiIngW"
   },
   "outputs": [],
   "source": [
    "import pandas as pd \n",
    "import numpy as np\n",
    "from datetime import datetime\n",
    "from datetime import timedelta\n",
    "import seaborn as sns\n",
    "import matplotlib.pyplot as plt\n"
   ]
  },
  {
   "cell_type": "markdown",
   "metadata": {
    "colab_type": "raw",
    "id": "nfKE7rQRIngh"
   },
   "source": [
    "On importe ensuite les données sous forme de dtataframe. La commande date_parser = pd.to_datetime permet de convertir les dates ecrites sous la forme jour/mois/année heure:minute, qui sont importées en tant que stings, en objet de type date, avec lesquels on peut faire des manipulationc commes des soustractions par exemple. "
   ]
  },
  {
   "cell_type": "code",
   "execution_count": 21,
   "metadata": {
    "colab": {},
    "colab_type": "code",
    "id": "uzsa3OzFIngk"
   },
   "outputs": [],
   "source": [
    "activity = pd.read_csv(\"1_Activity.csv\",sep = ';', na_values = ['NULL'], dtype = {'duration': float}, parse_dates = ['date'])\n",
    "acti_category = pd.read_csv(\"2_Activity_Category.csv\",sep = ';',na_values = ['NULL'], encoding = \"ISO-8859-1\")\n",
    "customer_lesson = pd.read_csv(\"4_Customer_Lesson.csv\",sep = ';',na_values = ['NULL'], parse_dates = ['date'])\n",
    "metric = pd.read_csv(\"6_Metric.csv\",sep = ';', na_values = ['NULL'],  dtype = {'user_id': float, 'value': float}, parse_dates = ['date'])\n",
    "metric_category = pd.read_csv(\"7_Metric_Category.csv\",sep = ';',na_values = ['NULL'])\n",
    "customer = pd.read_csv(\"11_Customer.csv\",sep = ';',na_values = ['NULL'], parse_dates = ['createdAt'])\n",
    "user = pd.read_csv(\"11_User.csv\",sep = ';',na_values = ['NULL'])\n",
    "\n",
    "cohorte = pd.read_csv('cohortes.csv', sep = ';',na_values = ['NULL'], parse_dates = ['createdAt'])\n",
    "\n",
    "# on met les dates au format datetime, qui permet de faire des soustractions et des sommes de dates.\n",
    "date_parser = pd.to_datetime "
   ]
  },
  {
   "cell_type": "markdown",
   "metadata": {
    "colab_type": "raw",
    "id": "qYFTF2s3Ingu"
   },
   "source": [
    "Dans user les dates ne sont pas converties grace à parse_dates. Il faut donc le faire séparément. On créer une série birthday qui contient les dates au bon format, et on la met dans user à la place de la colonne birthday déja présente. "
   ]
  },
  {
   "cell_type": "code",
   "execution_count": 22,
   "metadata": {
    "colab": {},
    "colab_type": "code",
    "id": "krm8BoxWIngx"
   },
   "outputs": [],
   "source": [
    "birthday = pd.to_datetime(user['birthday'], format='%d/%m/%Y', errors = 'coerce')\n",
    "user = user.drop(['birthday'], axis = 1)\n",
    "\n",
    "user['birthday'] = birthday"
   ]
  },
  {
   "cell_type": "markdown",
   "metadata": {
    "colab_type": "raw",
    "id": "_1v_ZyphIng3"
   },
   "source": [
    "On créé un tableau contenant : user_id, customer_id et les affectations aux cohortes. Ce tableau remplace le tableau customer."
   ]
  },
  {
   "cell_type": "code",
   "execution_count": 23,
   "metadata": {
    "colab": {},
    "colab_type": "code",
    "id": "pZ_0zCFtIng6"
   },
   "outputs": [],
   "source": [
    "cohorte = cohorte.drop(['deletedAt','updatedAt', 'createdAt', 'Unnamed: 9', 'height', 'weight', 'gender', 'user_id'], axis = 1)\n",
    "\n",
    "customer = customer.drop(['deletedAt', 'updatedAt'], axis = 1)\n",
    "customer = customer.merge(cohorte ,left_on = 'id', right_on = 'id', how = 'outer')\n",
    "customer = customer.sort_values(by = ['disease_id', 'id'])\n",
    "customer = customer.reset_index(drop = True)\n",
    "\n",
    "user.rename(columns = {'id': 'user_id'}, inplace = True)\n",
    "customer.rename(columns = {'id': 'customer_id'}, inplace = True)"
   ]
  },
  {
   "cell_type": "markdown",
   "metadata": {
    "colab_type": "text",
    "id": "XmKDAWSQInhA"
   },
   "source": [
    "# Calcul des KPI"
   ]
  },
  {
   "cell_type": "markdown",
   "metadata": {
    "colab_type": "text",
    "id": "hyJlVmMyInhE"
   },
   "source": [
    "## Implication sur les 3 premières semaines"
   ]
  },
  {
   "cell_type": "markdown",
   "metadata": {
    "colab_type": "raw",
    "id": "3uOrj1luInhH"
   },
   "source": [
    "   On va compter le nombre d'actions volontaires effectuées par chaque user. Ceci exclue par exemple les nombres de pas qui sont enregistrés par les podomètres, et qui necessitent juste d'avoir l'application ouverte. On commence par ecrire une fonction qui compte les actions volontaire de chaque user dans metric durant les 21 premiers jours. La fonction prend en argument le tableau metrics, et un tableau time début qui contient les dates de debut du programme pour chaque user.\n",
    "\n",
    "   Pour faire ceci, on créé une liste c qui va sélectionner les user_id dans metrics (il faut ensuite supprimer les doublons). On créé une liste vide tot qui va contenir le nomnbre d'actions faites par chaque user. Ensuite, pour chaque user, on créé un tableau A pour chaque user, où on sélectionne les lignes qui correspondent à des actions volontaires. On se réfère au tableau activity_category pour cela. Ensuite on créé un tableau B qui ne contient en fait qu'une valeur : la date de début du programme pour le user en question. Ensuite on compte les actions effectuées moins de 21 jours après le début du programme."
   ]
  },
  {
   "cell_type": "code",
   "execution_count": 24,
   "metadata": {
    "colab": {},
    "colab_type": "code",
    "id": "ESwG58lmInhL"
   },
   "outputs": [],
   "source": [
    "def count_voluntary_actions(metric,time_debut): \n",
    "    \n",
    "    c = np.array(metric['user_id']) \n",
    "    c = np.array(list(set(c))) \n",
    "    tot = []\n",
    "    \n",
    "    for i in range(len(c)):\n",
    "        A = metric[metric['user_id'].isin([c[i]])] \n",
    "        A = A[A['category_id'].isin([14,15,16,17,18,19,20,21,22])]\n",
    "        B = time_debut[time_debut['user_id'].isin([c[i]])]\n",
    "        \n",
    "        A = A.reset_index(drop = True)\n",
    "        B = B.reset_index(drop = True)\n",
    "        \n",
    "        n,l = 0,A.shape[0]\n",
    "        \n",
    "        for k in range(0,l) : \n",
    "             if A.loc[k,'date']-B.loc[0,'createdAt'] <= timedelta(days=21):\n",
    "                n+=1\n",
    "        tot.append(n)\n",
    "        \n",
    "    return(tot)"
   ]
  },
  {
   "cell_type": "markdown",
   "metadata": {
    "colab_type": "raw",
    "id": "_bm1FSWoInhT"
   },
   "source": [
    "On ecrit une fonction qui compte le nombre d'activités faites dans les 21 premiers jours. Elle fonctionne de la même manière que la fonction count_voluntary_actions sauf qu'ici le tableau A créé a chaque itération contient la liste des activités faites ou non par chaque user."
   ]
  },
  {
   "cell_type": "code",
   "execution_count": 25,
   "metadata": {
    "colab": {},
    "colab_type": "code",
    "id": "sylk_ONXInhW"
   },
   "outputs": [],
   "source": [
    "def imp_acti(activity,time_debut):\n",
    "    \n",
    "    c = np.array(activity['customer_id']) \n",
    "    c = np.array(list(set(c))) \n",
    "    tot = []\n",
    "\n",
    "    for i in range(len(c)):\n",
    "        A = activity[activity['customer_id'].isin([c[i]])]\n",
    "        A = A.reset_index(drop = True)\n",
    "        \n",
    "        B = time_debut[time_debut['customer_id'].isin([c[i]])]\n",
    "        B = B.reset_index(drop = True)\n",
    "        \n",
    "        n,l = 0,A.shape[0]\n",
    "        \n",
    "        for k in range(l):\n",
    "            if A.loc[k,'date']-B.loc[0,'createdAt'] <= timedelta(days=21) :\n",
    "                if A.loc[k,'state']=='done':\n",
    "                    n+=1\n",
    "        tot.append(n)\n",
    "\n",
    "    return(tot)"
   ]
  },
  {
   "cell_type": "markdown",
   "metadata": {
    "colab_type": "raw",
    "id": "QGvF7_XtInhe"
   },
   "source": [
    "Puis une fonction qui compte le nombre de leçons faites les 21 premiers jours. Elle fonctionne de manière analogue aux deux fonctions précédentes."
   ]
  },
  {
   "cell_type": "code",
   "execution_count": 26,
   "metadata": {
    "colab": {},
    "colab_type": "code",
    "id": "pampJGIpInhh"
   },
   "outputs": [],
   "source": [
    "def imp_lesson(lesson,time_debut):\n",
    "    c = np.array(lesson['customer_id']) \n",
    "    c = np.array(list(set(c))) \n",
    "    tot = []\n",
    "    \n",
    "    for i in range(len(c)):\n",
    "        A = lesson[lesson['customer_id'].isin([c[i]])]\n",
    "        A = A.reset_index(drop = True)\n",
    "         #on va cherhcer la date de début de programme pour le user en question.\n",
    "        \n",
    "        B = time_debut[time_debut['customer_id'].isin([c[i]])]\n",
    "        B = B.reset_index(drop = True)\n",
    "        #on va cherhcer la date de début de programme pour le user en question.\n",
    "        \n",
    "        n,l = 0, A.shape[0]\n",
    "        \n",
    "        for k in range(l):\n",
    "            #on selectionne les leçons faites dans les premières semaines\n",
    "            if A.loc[k,'date']-B.loc[0,'createdAt'] <= timedelta(days = 21):\n",
    "                if A.loc[k,'state'] == 'done':\n",
    "                    n += 1\n",
    "        tot.append(n)\n",
    "    return(tot)"
   ]
  },
  {
   "cell_type": "markdown",
   "metadata": {
    "colab_type": "raw",
    "id": "eGw0kWfJInhq"
   },
   "source": [
    "Puis une fonction implication qui va utiliser les trois fonctions précédentes et regrouper leur résultats dans un seul tableau. C'est dans cette fonction que l'on créé le tableau time_debut qui contient les dates de début du programme pour chaque user."
   ]
  },
  {
   "cell_type": "code",
   "execution_count": 27,
   "metadata": {
    "colab": {},
    "colab_type": "code",
    "id": "v-FrEPnOInhs"
   },
   "outputs": [],
   "source": [
    "def implication():\n",
    "    \n",
    "#---------------------------customer et user----------------------------------#\n",
    "    customer_df = customer.copy()\n",
    "    \n",
    "    user_df = user.copy()\n",
    "    user_df = user_df.drop(['deletedAt', 'updatedAt'], axis = 1)\n",
    "#-------------------------------metrics------------------------------------#\n",
    "    metric_df = metric.copy()\n",
    "    metric_df = metric_df.drop(['deletedAt', 'id', 'updatedAt','createdAt'], axis=1)\n",
    "    metric_df = metric_df.drop_duplicates()\n",
    "    metric_df = metric_df.sort_values(by =['user_id','category_id']) # tri des valeurs.\n",
    "    metric_df = metric_df.reset_index(drop = True) #réindexation.\n",
    "#---------------------------------leçons--------------------------------------#\n",
    "    lesson_df = customer_lesson.copy()\n",
    "    del lesson_df['id']\n",
    "    lesson_df = lesson_df.sort_values(by = ['customer_id','date'])\n",
    "    lesson_df = lesson_df.reset_index(drop = True)\n",
    "#-------------------------------Activity--------------------------------------#\n",
    "    acti = activity.copy()\n",
    "    acti = acti.drop(['id','feedback_text','feedback_rate','deletedBy_id','updatedBy_id','createdBy_id','deletedAt','updatedAt','createdAt'], axis=1)\n",
    "    acti = acti.sort_values(by = ['customer_id'])\n",
    "    acti = acti.drop([48410 + i for i in range(150)], axis = 0)\n",
    "    acti = acti.reset_index(drop = True)\n",
    "#-----------------------------------------------------------------------------#\n",
    "    time_debut = customer.copy(deep = True) \n",
    "    time_debut = time_debut.drop(['gender','weight','height'], axis = 1)\n",
    "#-----------------------------------------------------------------------------#\n",
    "\n",
    "    implication_metrics = pd.DataFrame({'user_id': np.array(list(set(metric_df['user_id']))),'nbr_metrics' : count_voluntary_actions(metric_df,time_debut)})\n",
    "    implication_metrics = implication_metrics.sort_values(by = ['user_id'])\n",
    "    implication_metrics = implication_metrics.reset_index(drop = True)\n",
    "\n",
    "    implication_lesson = pd.DataFrame({'customer_id': np.array(list(set(lesson_df['customer_id']))),'nbr_lecon_faites' : imp_lesson(lesson_df,time_debut) })\n",
    "    implication_lesson = implication_lesson.sort_values(by = ['customer_id'])\n",
    "    implication_lesson = implication_lesson.reset_index(drop = True)\n",
    "\n",
    "    implication_acti = pd.DataFrame({'customer_id': np.array(list(set(acti['customer_id']))),'nbr_acti_faites' : imp_acti(acti,time_debut)})\n",
    "    implication_acti = implication_acti.sort_values(by = ['customer_id'])\n",
    "    implication_acti = implication_acti.reset_index(drop = True) \n",
    "\n",
    "    implication_3_weeks = customer.merge(implication_lesson,left_on = 'customer_id', right_on = 'customer_id', how = 'outer')\n",
    "\n",
    "    implication_3_weeks = implication_3_weeks.merge(implication_acti,left_on = 'customer_id', right_on = 'customer_id', how = 'outer')\n",
    "\n",
    "    implication_3_weeks = implication_3_weeks.merge(implication_metrics,left_on = 'user_id', right_on = 'user_id', how = 'outer')\n",
    "\n",
    "    implication_3_weeks = implication_3_weeks.drop(['user_id', 'disease_id', 'createdAt','gender', 'weight', 'height'], axis = 1)\n",
    "\n",
    "    return(implication_3_weeks)"
   ]
  },
  {
   "cell_type": "markdown",
   "metadata": {
    "colab_type": "text",
    "id": "d_UfSgdvInhz"
   },
   "source": [
    "# KPI des pas."
   ]
  },
  {
   "cell_type": "markdown",
   "metadata": {
    "colab_type": "raw",
    "id": "eSEEyNHHInh1"
   },
   "source": [
    "On s'intéresse au nombre de pas réalisé par chaque utilisateur. Ces informations sont dans le tableau metrics ; elles correspondent aux category_id 5, 6 et 7. On somme tous les pas pour chaque utilisateur, et on récupère aussi la plage temporelle pendant laquelle tous ces pas ont été effectués."
   ]
  },
  {
   "cell_type": "code",
   "execution_count": 28,
   "metadata": {
    "colab": {},
    "colab_type": "code",
    "id": "fWdR0AgVInh3"
   },
   "outputs": [],
   "source": [
    "def KPI_pas():\n",
    "    extraction_pas=metric[metric['category_id'].isin([5,6,7])]\n",
    "    \n",
    "    extraction_pas = extraction_pas.drop(['deletedAt', 'id', 'updatedAt', 'createdAt' ], axis = 1)\n",
    " \n",
    "    extraction_pas = extraction_pas.drop_duplicates()\n",
    "    \n",
    "    extraction_pas = extraction_pas.reset_index(drop = True)\n",
    "    \n",
    "    #on declare toutes les variables dont on aura besoin dans la suite du programme\n",
    "    somme_pas , date_debut, date_fin, temps_activite = [], [], [], []\n",
    "    \n",
    "    l, date_debut_float, date_fin_float = 0, 0, 0\n",
    " \n",
    "    KPI_pas, KPI_valide,KPI_pas_duree, KPI_pas_data, nb_de_data  = [], [], [], [], []\n",
    "    \n",
    "    delta_temps = timedelta(0)\n",
    "    \n",
    "    indice, length,sum_steps = 0, 0, 0\n",
    "  \n",
    "    #on cree la liste avec juste les id des users de facon unique\n",
    "    users=list(set(extraction_pas['user_id']))\n",
    "    \n",
    "    #on va creer les listes qui vont correspondre aux colonnes de la nouvelle dataframe\n",
    "    \n",
    "    for i in users:\n",
    "        \n",
    "        #on definit une variable temporaire df_temp qui est une copy de extraction_pas mais où il y a seulement les lignes qui correspondent à un seul user_id\n",
    "        df_temp=extraction_pas[extraction_pas['user_id'].isin([i])]\n",
    "        df_temp=df_temp.reset_index(drop=True)\n",
    "        \n",
    "        #on trie par date\n",
    "        df_temp=df_temp.sort_values(by=['date'])\n",
    "        df_temp=df_temp.reset_index(drop=True)\n",
    "        \n",
    "        #on somme toute les donnees de pas et on les stocke dans une liste somme_pas\n",
    "        somme_pas.append(df_temp.sum().value)\n",
    "        \n",
    "        #on pose la variable contenant la date de debut de l'activite physique\n",
    "        date_debut_float=df_temp.loc[0,'date']\n",
    "        \n",
    "        #on fait de meme avec la variable contenant la date de fin de l'activite physique\n",
    "        l=df_temp.shape[0]\n",
    "        date_fin_float=df_temp.loc[l-1,'date']\n",
    "        \n",
    "        #on stocke la difference de temps (en jours) dans la liste temps_activite\n",
    "        temps_activite.append(date_fin_float-date_debut_float)\n",
    "        \n",
    "        #on attribue la valeur a la variable length qui va servir a compter le nombre de données disponibles pour chaque user_id que l'on stocke ensuite dans la liste nb_de_data\n",
    "        length=len(df_temp)\n",
    "        nb_de_data.append(length)\n",
    "        \n",
    "        #on initialise ici une variable qui sera utile pour compter le nb de pas total sur une duree de 120 jours\n",
    "        sum_steps=0\n",
    "        date1=0\n",
    "        indice=0\n",
    "        delta_temps=timedelta(0)\n",
    "        \n",
    "        \n",
    "        #maintenant que l'on a recuperé toutes les donnees de pas pour un utilisateur, on va étudier comment se sont passer les 120 premiers jours d'activité\n",
    "        \n",
    "        #d'abord on regarde les users qui ont un temps total d'activité physique entre 30 et 120 jours. La valeur 30 est arbitraire pour exclure les gens qui n'auraient fait des pas que sur les 30 premiers jours.\n",
    "        #Pour avoir une donnee du nombre de pas sur 120 jours, on fait une moyenne sur le temps d'activité reel que l'on remet sur 120 jours et on stocke tout ca dans KPI_pas. Ensuite dans KPI_pas_duree, on mets la duree reele sur laquelle s'est produite l'entiereté de l'activité physique et dans KPI_pas_data on mets le nombre de données que l'on possède.\n",
    "        if temps_activite[-1]<timedelta(120) and temps_activite[-1]>timedelta(30):\n",
    "            KPI_pas.append(somme_pas[-1]/temps_activite[-1].days*120)\n",
    "            KPI_pas_duree.append(temps_activite[-1])\n",
    "            KPI_pas_data.append(length)\n",
    "            \n",
    "        #on fait de meme avec les gens qui ont pile 120 jours d'activité (je sais pas si il y en a vraiment, mais on sait jamais)\n",
    "        elif temps_activite[-1]==timedelta(120):\n",
    "            KPI_pas.append(somme_pas[-1])\n",
    "            KPI_pas_duree.append(temps_activite[-1])\n",
    "            KPI_pas_data.append(length)\n",
    "            \n",
    "        #Ici, c'est le cas des gens qui ont moins de 30 jours de donnees. Du coup, on decide arbitrairement que ca ne suffit pas pour avoir des resultats fiables, et on remplit les liste de facon conséquente (KPI_pas=NaN)\n",
    "        elif temps_activite[-1]<=timedelta(30):\n",
    "            KPI_pas.append(np.nan)\n",
    "            KPI_pas_duree.append(temps_activite[-1])\n",
    "            KPI_pas_data.append(length)\n",
    "            \n",
    "        #Le cas le plus complexe est quand la personne a plus de 120 jours de données. En effet, il y a peu de chances que l'on ait une donnée de son nombre de pas exactement le 120eme jour apres qu'il ait commencé le programme. Du coup on essaye de prendre la somme des pas jusqu'au dernier jour où on a des données avant de passer la barre des 120 jours\n",
    "        elif temps_activite[-1]>timedelta(120):\n",
    "            \n",
    "            #on fait une boucle while qui finira quand on aura passé la barre des 120 jours\n",
    "            while delta_temps<timedelta(120):\n",
    "                sum_steps +=df_temp['value'][indice] #on somme les pas de chaque jour\n",
    "                indice += 1\n",
    "                delta_temps = df_temp['date'][indice]-date_debut_float #on avance jusqu'au prochain jour\n",
    "            \n",
    "            #maintenant la variable \"indice\" pointe à la ligne correspondant au jour où on possède de la donnée qui suit le jour 120, il faut donc bien attribuer la bonne valeur à delta_temps pour pointer au jour où la donnee est disponible avant le jour 120.\n",
    "            date1 = df_temp['date'][indice - 1] - date_debut_float\n",
    "            \n",
    "            #on ajoute dans KPI_pas la moyenne sur les 120 premiers jours et on rempli les autres listes en fonction\n",
    "            KPI_pas.append(sum_steps/date1.days*120)\n",
    "            KPI_pas_duree.append(date1)\n",
    "            KPI_pas_data.append(indice-1)\n",
    "        \n",
    "        #maintenant on crée la derniere liste correspondant à si la personne a bien validé le KPI des pas\n",
    "        if KPI_pas[-1] >= 840000:\n",
    "            KPI_valide.append(1)\n",
    "        else:\n",
    "            KPI_valide.append(0)\n",
    "    \n",
    "    \n",
    "    #on va creer un nouveau dataframe qui regroupe toutes les informations qu'on a recueillis\n",
    "    recap = pd.DataFrame({\"user_id\" : users, \"pas_total\" : somme_pas, \"pas_duree_total\" : temps_activite, \"pas_data_total\" : nb_de_data, \"KPI_pas\" : KPI_pas, \"KPI_pas_duree\" : KPI_pas_duree, \"KPI_pas_data\": KPI_pas_data, \"KPI_pas_done\" : KPI_valide})\n",
    "    recap = recap.sort_values(by = 'user_id')\n",
    "    recap = recap.reset_index(drop = True)\n",
    "    \n",
    "    return(recap)\n"
   ]
  },
  {
   "cell_type": "markdown",
   "metadata": {
    "colab_type": "text",
    "id": "XC5aVk-UInh_"
   },
   "source": [
    "# KPI des leçons"
   ]
  },
  {
   "cell_type": "markdown",
   "metadata": {
    "colab_type": "raw",
    "id": "85ne3nH-IniC"
   },
   "source": [
    "Cette fonction va étudier l'assiduité des utilisateurs face aux leçons. Elle prend en argument un tableau input_df (ici customer_lesson), id_name (qui est le nom de l'id qui permet d'identifier les données intéressantes dans input_df. Dans customer_lesson il s'agit de lesson_id), et KPI_name (le nom que l'on va donner à notre KPI, ici KPI_lesson).\n",
    "ce tableau contiendra les colonnes customer_id, KPI_lesson (le pourcantage de leçons effectuées) et KPI_lesson_done (qui vaut 1 si KPI_lesson>0,66 - i.e si le customer a fait au moins deux tiers des leçons - 0 sinon)."
   ]
  },
  {
   "cell_type": "code",
   "execution_count": 29,
   "metadata": {
    "colab": {},
    "colab_type": "code",
    "id": "wtcVamEXIniE"
   },
   "outputs": [],
   "source": [
    "def KPI_lesson(input_df, id_name, KPI_name):\n",
    "# get the rows\n",
    "    customer_lesson_col = input_df['lesson_id']\n",
    "    customer_id_col = input_df['customer_id']\n",
    "# count the number of lessons for each customer\n",
    "    customer_count_dic = {}\n",
    "    for i in customer_id_col:\n",
    "        customer_count_dic[i] = customer_count_dic.get(i, 0) + 1\n",
    "        \n",
    "# count the number of lessons done for each customer\n",
    "    customer_activity_done_df = input_df[input_df['state'] == 'done']\n",
    "    customer_done_lesson_col = customer_activity_done_df['lesson_id']\n",
    "    customer_done_id_col = customer_activity_done_df['customer_id']\n",
    "    customer_done_count_dic = {}\n",
    "    for i in customer_done_id_col:\n",
    "        customer_done_count_dic[i] = customer_done_count_dic.get(i, 0) + 1\n",
    "# calculate the KPI for each customer\n",
    "    rate_dic = {}\n",
    "    for i in customer_count_dic.keys():\n",
    "        try:\n",
    "            rate_dic[i] = float(customer_done_count_dic[i])/float(customer_count_dic[i])\n",
    "        except:\n",
    "            rate_dic[i] = 0\n",
    "            \n",
    "# put the KPI in dataframe\n",
    "    col_customer_id = list(rate_dic.keys())\n",
    "    col_KPI_lesson = []\n",
    "    for i in col_customer_id:\n",
    "        col_KPI_lesson.append(rate_dic[i])\n",
    "    d = {id_name:col_customer_id, KPI_name:col_KPI_lesson}\n",
    "    KPI_df = pd.DataFrame(data=d)\n",
    "    \n",
    "    #Ajout de KPI_lesson_done###\n",
    "    KPI_lesson_done = []\n",
    "    for value in KPI_df.KPI_lesson:\n",
    "        if value >= 0.65:\n",
    "            KPI_lesson_done.append(1)\n",
    "        elif value < 0.65 : \n",
    "            KPI_lesson_done.append(0) \n",
    "        else :\n",
    "            KPI_lesson_done.append(np.nan)\n",
    "    KPI_df['KPI_lesson_done'] =  KPI_lesson_done\n",
    "    KPI_df.rename(columns = {'lesson_id': 'customer_id'}, inplace = True)\n",
    "    \n",
    "    return(KPI_df)\n"
   ]
  },
  {
   "cell_type": "markdown",
   "metadata": {
    "colab_type": "text",
    "id": "_O3s0G-MIniK"
   },
   "source": [
    "# KPI des MET"
   ]
  },
  {
   "cell_type": "code",
   "execution_count": 30,
   "metadata": {
    "colab": {},
    "colab_type": "code",
    "id": "oDsc6C9HIniM"
   },
   "outputs": [],
   "source": [
    "def KPI_MET():\n",
    "    \n",
    "    acti = activity\n",
    "    \n",
    "    # On va mettre en forme pour obtenir un 1er tableau df récapitulant les donnés utiles\n",
    "    \n",
    "    #On supprime les colones utiles\n",
    "    acti = acti.drop(['id','feedback_text','feedback_rate','deletedBy_id','updatedBy_id', 'createdBy_id','createdAt','deletedAt','updatedAt'], axis = 1)\n",
    "\n",
    "    #On sélectionne uniquement les personnes qui ont bien fait l'activité \n",
    "    acti = acti[acti['state'] == \"done\"]  \n",
    "    \n",
    "    del acti['state']    \n",
    "\n",
    "    activity_category = acti_category[['id','MET']]\n",
    "    \n",
    "    #On obtient un tableau en faisant une jointure \n",
    "    df = pd.merge(acti,activity_category,left_on = 'category_id',right_on = 'id')\n",
    "    \n",
    "    df = df[['customer_id','duration','MET','date']]\n",
    "    \n",
    "    #On obtient la valeur totale des MET de l'activité \n",
    "    df = df.assign(value=lambda df: df.duration*df.MET)\n",
    "    df = df[['customer_id','value','date']]\n",
    "    #On trie par id et on supprime les activités qui ne rapportent pas de MET\n",
    "    df.sort_values(by = 'customer_id')\n",
    "    df = df[df['value'] != 0]\n",
    "    \n",
    "    #On ré-initialise l'index à partir de 0. A partir de là on va travailler pour extraire les informations utiles du tableau df.\n",
    "    df = df.reset_index(drop=True) \n",
    "    \n",
    "    \n",
    "    \n",
    "    #On declare toutes les variables dont on aura besoin dans la suite du programme\n",
    "    somme_MET, l = [], 0\n",
    "    temps_activite=[]\n",
    "    date_debut_float=0\n",
    "    date_fin_float=0\n",
    "    KPI_MET=[]\n",
    "    delta_temps=timedelta(0)\n",
    "    indice=0\n",
    "    nb_de_data=[]\n",
    "    length=0\n",
    "    sum_steps=0\n",
    "    KPI_valide=[]\n",
    "    KPI_MET_duree=[]\n",
    "    KPI_MET_data=[]\n",
    "    users=list(set(df['customer_id'])) #on cree la liste avec juste les id des users de facon unique\n",
    "    \n",
    "    #On va creer des listes pour creer le nouveau dataframe qui récapitulera tout\n",
    "    for i in users:\n",
    "        \n",
    "        #On crée une liste temporaire qui contient les informations utiles pour l'utilisateur i \n",
    "        df_temp = df[df['customer_id'].isin([i])]\n",
    "        df_temp = df_temp.reset_index(drop = True)\n",
    "        #On trie par date et on ré-index\n",
    "        df_temp = df_temp.sort_values(by = ['date'])\n",
    "        df_temp = df_temp.reset_index(drop = True)\n",
    "        #On somme l'ensemble des MET réalisés par l'utilisateur i sur sa période\n",
    "        somme_MET.append(df_temp.sum().value)\n",
    "        #On obtient la date de début, et de fin, de son activité : ce qui permet d'obtenir la durée totale de son activité \n",
    "        date_debut_float = df_temp.loc[0,'date']\n",
    "        #date_debut.append(date_debut_float)\n",
    "        l= df_temp.shape[0]\n",
    "        date_fin_float = df_temp.loc[l-1,'date']\n",
    "        #date_fin.append(date_fin_float)\n",
    "        temps_activite.append(date_fin_float-date_debut_float)\n",
    "        #On obtient la longueur de la liste, qui correspond aux nombres d'activités (nombre de données) faites par l'utilisateur i \n",
    "        length = len(df_temp)\n",
    "        nb_de_data.append(length)\n",
    "        sum_steps = 0\n",
    "        indice = 0\n",
    "        delta_temps = timedelta(0)\n",
    "        \n",
    "        #1er cas : l'utilisateur est membre du programe depuis moins de 120 jours mais plus de 30 jours\n",
    "        if temps_activite[-1] < timedelta(120) and temps_activite[-1]>timedelta(30):\n",
    "            #On réalise un moyenne des MET réalisés par jour jusqu'à présent et on l'étend sur 120 jours par régression linéaire\n",
    "            KPI_MET.append(somme_MET[-1]/temps_activite[-1].days*120)\n",
    "            #On rajoute le temps d'activté à la liste \n",
    "            KPI_MET_duree.append(temps_activite[-1])\n",
    "            #On rajoute le nombre d'activités réalisées\n",
    "            KPI_MET_data.append(length)\n",
    "        \n",
    "        #2nd cas : l'utilisateur est membre du programe depuis pile 120 jour\n",
    "        elif temps_activite[-1] == timedelta(120):\n",
    "            #On a directement la somme des MET réalisé par l'utilisateur, ainsi que son temps d'activité et son nombre d'activité\n",
    "            KPI_MET.append(somme_MET)\n",
    "            KPI_MET_duree.append(temps_activite[-1])\n",
    "            KPI_MET_data.append(length)\n",
    "        \n",
    "        #3ème cas : l'utilisateur est membre du programe depuis moins de 30 jours, ses données ne sont pas assez nombreuses pour le considérer\n",
    "        elif temps_activite[-1] <= timedelta(30):\n",
    "            KPI_MET.append(np.nan)\n",
    "            KPI_MET_duree.append(temps_activite[-1])\n",
    "            KPI_MET_data.append(length)\n",
    "        \n",
    "        #4ème cas : l'utilisateur est membre du programe depuis plus de 120 jours, on va être limiter de limiter ses MET à ceux réalisés durant les 120 premiers jours\n",
    "        elif temps_activite[-1] > timedelta(120):\n",
    "            #On calcule les MET sur les 120 premiers jours ainsi que la durée sur laquelle il les a réalisé (qui peut être inférieur à 120jours)\n",
    "            while delta_temps<timedelta(120):\n",
    "                sum_steps += df_temp['value'][indice]\n",
    "                indice += 1\n",
    "                delta_temps = df_temp['date'][indice]-date_debut_float\n",
    "            delta_temps = df_temp['date'][indice-1]-date_debut_float\n",
    "            KPI_MET.append(sum_steps)\n",
    "            KPI_MET_duree.append(delta_temps)\n",
    "            KPI_MET_data.append(indice-1)\n",
    "\n",
    "        # On détermine sur l'utilisateur a atteint le KPI : 9000 MET en 120 jours\n",
    "        if KPI_MET[-1]>=9000:\n",
    "            KPI_valide.append(1)\n",
    "        else:\n",
    "            KPI_valide.append(0)\n",
    "    \n",
    "    #On va creer un nouveau dataframe récapitulant ces informations pour chaque utilisateur\n",
    "    recap = pd.DataFrame({\"customer_id\" : users, \"MET_total\" : somme_MET, \"MET_duree_total\" : temps_activite, \"MET_data_total\" : nb_de_data, \"KPI_MET\" : KPI_MET, \"KPI_MET_duree\" : KPI_MET_duree, \"KPI_MET_data\": KPI_MET_data, \"KPI_MET_done\" : KPI_valide})\n",
    "    recap = recap.sort_values(by = 'customer_id')\n",
    "    recap = recap.reset_index(drop = True)\n",
    "    \n",
    "    return(recap)"
   ]
  },
  {
   "cell_type": "markdown",
   "metadata": {
    "colab_type": "text",
    "id": "Jpi2j3CWIniW"
   },
   "source": [
    "## KPI du poids"
   ]
  },
  {
   "cell_type": "markdown",
   "metadata": {
    "colab_type": "raw",
    "id": "EhJ7c-idInia"
   },
   "source": [
    "On commence par nettoyer les données, car il y'a des valeurs abérentes. On va regarder la moyenne du poids de chaque utilisateur, et si une valeur est éloignée de plus de 30%, on la met à la moyenne. "
   ]
  },
  {
   "cell_type": "code",
   "execution_count": 31,
   "metadata": {
    "colab": {},
    "colab_type": "code",
    "id": "qy6QauchInif"
   },
   "outputs": [],
   "source": [
    "def nettoyage(extraction_poids):\n",
    "    c = np.array(extraction_poids['user_id']) #liste des user_id dans extraction_poids\n",
    "    c = np.array(list(set(c))) # on vire les doublons\n",
    "    tot = []\n",
    "    #---------------------------# \n",
    "    for i in range(len(c)):\n",
    "        #on extrait une sous-table pour chaque user\n",
    "        A = extraction_poids[extraction_poids['user_id'].isin([c[i]])]\n",
    "        A = A.reset_index(drop = True)\n",
    "        \n",
    "        avg = A['value'].mean() \n",
    "       \n",
    "        l = A.shape[0]\n",
    "    \n",
    "        for k in range(l): \n",
    "            if abs(avg - A.loc[k,'value'])/avg >= 0.25 : #30% d'écart à la moyenne\n",
    "                A.loc[k,'value'] = avg\n",
    "          \n",
    "        #traitement des grandes variations    \n",
    "        for k in range(1,l):\n",
    "            if abs(A.loc[k-1,'value'] - A.loc[k,'value']) >= 7:\n",
    "                if (A.loc[k,'date']- A.loc[k-1,'date']) <= timedelta(days = 14):\n",
    "                     A.loc[k,'value'] = A.loc[k-1,'value']\n",
    "                     \n",
    "        #traitement des petites variations  \n",
    "        for k in range(1,l):\n",
    "            if abs(A.loc[k-1,'value']-A.loc[k,'value']) >= 4:\n",
    "                if (A.loc[k,'date']- A.loc[k-1,'date']) <= timedelta(days = 4):\n",
    "                     A.loc[k,'value'] = A.loc[k-1,'value']\n",
    "                     \n",
    "        tot.append(A)\n",
    "    #---------------------------# \n",
    "    poids = tot[0]\n",
    "    for i in range(1,len(tot)):\n",
    "        poids = pd.concat([poids,tot[i]])\n",
    "\n",
    "    return(poids)"
   ]
  },
  {
   "cell_type": "markdown",
   "metadata": {
    "colab_type": "raw",
    "id": "qciPFS9uInin"
   },
   "source": [
    "On écrit ensuite une fonction KPI_poids qui calcule en fait la perte de poids de chaque utilisateur en pourcentage de son poids initial. Donc un pourcentage positif signifie une perte de poids, un pourcentage négatif un gain de poids.\n",
    "Le tableau va contenir les colonnes suivantes : 'user_id', 'periode' (temps passé entre les deux mesures de poids les plus éloignées dans le temps pour chaque user), 'nombre_données' (le nombre de mesures de poids pour chaque user), 'perte_de_poids' (le pourcentage de perte de poids), et le poids initial et le poids final."
   ]
  },
  {
   "cell_type": "code",
   "execution_count": 32,
   "metadata": {
    "colab": {},
    "colab_type": "code",
    "id": "cQAd2WbCInip"
   },
   "outputs": [],
   "source": [
    "def KPI_poids():\n",
    "    \n",
    "    #on prend les lignes qui ne correspondent qu'au poids. La catégorie du poids est 16\n",
    "    extraction_poids = metric[metric['category_id'].isin([16])] \n",
    "    \n",
    "    extraction_poids = extraction_poids.drop(['deletedAt','id', 'updatedAt','createdAt', 'deletedAt'], axis = 1)\n",
    "    \n",
    "    #on trie par user_id croissant\n",
    "    extraction_poids = extraction_poids.sort_values(by = 'user_id')\n",
    "    \n",
    "    # Il y'a des lignes identiques - on les retire : \n",
    "    extraction_poids = extraction_poids.drop_duplicates()\n",
    "      \n",
    "    #tri temporel par user\n",
    "    extraction_poids = extraction_poids.sort_values(by = ['user_id','date'])\n",
    "\n",
    "    extraction_poids = extraction_poids.reset_index(drop = True) \n",
    "    \n",
    "    poids = nettoyage(extraction_poids)  \n",
    "    \n",
    "    #tri temporel par user\n",
    "    poids = poids.sort_values(by = ['user_id','date'])\n",
    "    \n",
    "    poids = poids.reset_index(drop = True) \n",
    "    \n",
    "    c = np.array(poids['user_id']) #liste des user_id dans extraction_poids.\n",
    "    c = np.array(list(set(c))) # on vire les doublons.\n",
    "    P = [] # liste des pertes de poids\n",
    "    T = [] # liste du temps passé dans le programme\n",
    "    val = [] # liste des nombre de valeurs \n",
    "    ini = []\n",
    "    fin = []\n",
    "    #---------------------------# \n",
    "    for i in range(len(c)):\n",
    "        #on extrait une sous-table pour chaque user.\n",
    "        A = poids[poids['user_id'].isin([c[i]])]\n",
    "        A = A.reset_index(drop = True)\n",
    "        l = A.shape[0]\n",
    "        \n",
    "        perte = -100*(A.loc[l-1,'value']-A.loc[0,'value'])/A.loc[0,'value']\n",
    "        \n",
    "        time = A.loc[l-1,'date']- A.loc[0,'date']\n",
    "        \n",
    "        fin.append(A.loc[l-1,'value'])\n",
    "        ini.append(A.loc[0,'value'])\n",
    "        P.append(perte)\n",
    "        T.append(time)\n",
    "        val.append(l)\n",
    "    #---------------------------# \n",
    "    KPI_poids = pd.DataFrame({'user_id': c, 'perte_de_poids' : P, 'periode' : T, 'nombre_données' : val, 'poids_ini' : ini, 'poids_fin' : fin })\n",
    "    \n",
    "    KPI_poids = KPI_poids.sort_values(by = ['user_id'])\n",
    "    KPI_poids = KPI_poids.reset_index(drop = True) \n",
    "    \n",
    "    return(KPI_poids)"
   ]
  },
  {
   "cell_type": "markdown",
   "metadata": {
    "colab_type": "text",
    "id": "HLqOKvYpInit"
   },
   "source": [
    "# Visualisation et analyse."
   ]
  },
  {
   "cell_type": "markdown",
   "metadata": {
    "colab_type": "raw",
    "id": "ms0vvsvJIniv"
   },
   "source": [
    "On écrit d'abord quelques fonctions intermédiaires qui vont servir dans la suite du programme. Les deux premières permettent de de calculer l'age des utilisateurs, la deuxième est une fonction de nettoyage."
   ]
  },
  {
   "cell_type": "code",
   "execution_count": 33,
   "metadata": {
    "colab": {},
    "colab_type": "code",
    "id": "k8lm_YObIni4"
   },
   "outputs": [],
   "source": [
    "def calculate_age(born): \n",
    "    today = datetime.today()\n",
    "    return today.year - born.year - ((today.month, today.day) < (born.month, born.day))\n",
    "\n",
    "def age(df): \n",
    "    age = []\n",
    "    for item in df.birthday:\n",
    "        delta = calculate_age(item)\n",
    "        age.append(delta)\n",
    "    age_df = pd.DataFrame({'user_id': df['user_id'], 'age' : age })\n",
    "    return(age_df)\n",
    "                        \n",
    "    df['age'] =  age\n",
    "    df1 = df.loc[:,['user_id','age']]\n",
    "    return df1\n",
    "\n",
    "def nett(df,a,b): #Nettoyage des valeurs non comprises entre [a,b]\n",
    "    temp=[]\n",
    "    for i in df : \n",
    "        if i<b and i>a:\n",
    "            temp +=[i]\n",
    "        else :\n",
    "            temp += [np.nan]\n",
    "    df = temp\n",
    "    return df\n"
   ]
  },
  {
   "cell_type": "markdown",
   "metadata": {
    "colab_type": "raw",
    "id": "QbP4XGQIInjA"
   },
   "source": [
    "Puis on créé un tableau qui regroupe tous les KPI, en fusionnant les résultats des fonctions KPI_pas, KPI_MET, implication et KPI_poids. On rajoute aussi la taille et le poids des users, en retirant les erreurs"
   ]
  },
  {
   "cell_type": "code",
   "execution_count": 34,
   "metadata": {
    "colab": {},
    "colab_type": "code",
    "id": "7cQVoyngInjC"
   },
   "outputs": [],
   "source": [
    "def init():\n",
    "    global customer\n",
    "    \n",
    "    KPI_df = customer.copy(deep = True)\n",
    "    \n",
    "    KPI_df = KPI_df.merge(age(user),left_on = 'user_id', right_on = 'user_id', how = 'outer') #Ajoute de l'age à customer\n",
    "    \n",
    "    KPI_df.height = nett(customer.height,130,200) #On retire les gens inferieurs à 130cm et supérieurs à 200cm\n",
    "    KPI_df.weight = nett(customer.weight,40,200) #On retire les gens inferieurs à 40kg et supérieurs à 150kg\n",
    "    \n",
    "    #Ajout du KPI_lesson calcule dans  Gao_KPI_lesson\n",
    "    KPI_df = KPI_df.merge(KPI_lesson(customer_lesson,'lesson_id','KPI_lesson'),left_on = 'customer_id', right_on = 'customer_id', how='outer') \n",
    "    \n",
    "    #Ajout du KPI_poids calcule dans  Hugo_KPI_poids\n",
    "    KPI_df = KPI_df.merge(KPI_poids(),left_on = 'user_id', right_on = 'user_id', how = 'outer') \n",
    "    KPI_df.rename(columns = {'Perte_de_poids': 'Perte_de_poids (% du poids initial)'}, inplace = True)\n",
    "    KPI_df.rename(columns = {'periode': 'Periode de perte de poids'}, inplace = True)\n",
    "    \n",
    "    #Ajout du KPI_pas calcule dans  Felix_KPI_pas\n",
    "    KPI_df = KPI_df.merge(KPI_pas(),left_on = 'user_id', right_on = 'user_id', how = 'outer') \n",
    "    KPI_df.rename(columns = {'somme pas': 'KPI_pas'}, inplace=True)\n",
    "    \n",
    "    #Ajout du KPI_pas calcule dans  Kunsch_KPI_MET\n",
    "    KPI_df = KPI_df.merge(KPI_MET(),left_on = 'customer_id', right_on = 'customer_id', how = 'outer') \n",
    "    KPI_df.rename(columns = {'METa': 'KPI_MET'}, inplace = True)\n",
    "    \n",
    "    #Drop les colonnes useless\n",
    "    KPI_df = KPI_df.drop(['createdAt'], axis = 1) \n",
    "    \n",
    "    #Ajout du KPI_pas calcule dans implication_3_weeks\n",
    "    KPI_df = KPI_df.merge(implication(),left_on = 'customer_id', right_on = 'customer_id', how = 'outer') \n",
    "\n",
    "    return(KPI_df)"
   ]
  },
  {
   "cell_type": "markdown",
   "metadata": {
    "colab_type": "raw",
    "id": "bM-_IHb-InjQ"
   },
   "source": [
    "On va ensuite afficher une matrice de corrélation entre différents paramètres du tableau final. Pour cela on en créé une copy KPI_mat_corr, dont on retire les colonnes que l'on en veut pas voir dans la matrice de corrélation."
   ]
  },
  {
   "cell_type": "code",
   "execution_count": 35,
   "metadata": {
    "colab": {},
    "colab_type": "code",
    "id": "sMtr5yeKInjR",
    "outputId": "ba2d7393-b566-45c7-c26a-6ccab02e3368"
   },
   "outputs": [
    {
     "name": "stderr",
     "output_type": "stream",
     "text": [
      "/Users/ariane/anaconda3/lib/python3.6/site-packages/ipykernel_launcher.py:94: RuntimeWarning: divide by zero encountered in double_scalars\n"
     ]
    },
    {
     "data": {
      "text/plain": [
       "<matplotlib.axes._subplots.AxesSubplot at 0x1a20cf8208>"
      ]
     },
     "execution_count": 35,
     "metadata": {},
     "output_type": "execute_result"
    },
    {
     "data": {
      "text/plain": [
       "<matplotlib.figure.Figure at 0x10a059828>"
      ]
     },
     "metadata": {},
     "output_type": "display_data"
    },
    {
     "data": {
      "image/png": "[encoded data removed]",
      "text/plain": [
       "<matplotlib.figure.Figure at 0x1a20dc6f60>"
      ]
     },
     "metadata": {
      "needs_background": "light"
     },
     "output_type": "display_data"
    }
   ],
   "source": [
    "KPI_df = init()\n",
    "KPI_df\n",
    "df1 = KPI_df.loc[:,['gender','age','height','weight']]\n",
    "            \n",
    "df1 = df1.astype(float)\n",
    "df1 = df1.sort_values(by = 'gender') #Trie \n",
    "plt.figure()\n",
    "\n",
    "plt.figure(figsize = (20,7))\n",
    "    \n",
    "KPI_mat_corr = KPI_df.copy()\n",
    "KPI_mat_corr = KPI_mat_corr.drop(['customer_id','user_id','nombre_données','poids_ini','poids_fin','Periode de perte de poids'], axis=1)\n",
    "KPI_mat_corr = KPI_mat_corr.drop(['KPI_pas_data', 'KPI_pas_done','pas_data_total','pas_total','KPI_pas_duree','pas_duree_total'], axis=1)\n",
    "KPI_mat_corr = KPI_mat_corr.drop(['KPI_MET_done','KPI_MET_data','MET_data_total','MET_total','KPI_MET_duree','MET_duree_total'], axis=1)\n",
    "sns.heatmap(abs(KPI_mat_corr.corr()), square = True, annot = True, fmt='.0%',cmap = \"Blues\")\n"
   ]
  },
  {
   "cell_type": "code",
   "execution_count": 36,
   "metadata": {
    "scrolled": true
   },
   "outputs": [
    {
     "data": {
      "text/html": [
       "<div>\n",
       "<style scoped>\n",
       "    .dataframe tbody tr th:only-of-type {\n",
       "        vertical-align: middle;\n",
       "    }\n",
       "\n",
       "    .dataframe tbody tr th {\n",
       "        vertical-align: top;\n",
       "    }\n",
       "\n",
       "    .dataframe thead th {\n",
       "        text-align: right;\n",
       "    }\n",
       "</style>\n",
       "<table border=\"1\" class=\"dataframe\">\n",
       "  <thead>\n",
       "    <tr style=\"text-align: right;\">\n",
       "      <th></th>\n",
       "      <th>customer_id</th>\n",
       "      <th>user_id</th>\n",
       "      <th>gender</th>\n",
       "      <th>height</th>\n",
       "      <th>weight</th>\n",
       "      <th>disease_id</th>\n",
       "      <th>age</th>\n",
       "      <th>KPI_lesson</th>\n",
       "      <th>KPI_lesson_done</th>\n",
       "      <th>perte_de_poids</th>\n",
       "      <th>poids_fin</th>\n",
       "      <th>poids_ini</th>\n",
       "      <th>KPI_pas</th>\n",
       "      <th>KPI_pas_done</th>\n",
       "      <th>KPI_MET</th>\n",
       "      <th>KPI_MET_done</th>\n",
       "      <th>MET_total</th>\n",
       "      <th>nbr_acti_faites</th>\n",
       "    </tr>\n",
       "  </thead>\n",
       "  <tbody>\n",
       "    <tr>\n",
       "      <th>144</th>\n",
       "      <td>443</td>\n",
       "      <td>578</td>\n",
       "      <td>1</td>\n",
       "      <td>166.0</td>\n",
       "      <td>78.6</td>\n",
       "      <td>21</td>\n",
       "      <td>37.0</td>\n",
       "      <td>0.263158</td>\n",
       "      <td>0.0</td>\n",
       "      <td>2.671148</td>\n",
       "      <td>78.6</td>\n",
       "      <td>80.757143</td>\n",
       "      <td>268105.531915</td>\n",
       "      <td>0.0</td>\n",
       "      <td>280.0</td>\n",
       "      <td>0.0</td>\n",
       "      <td>940.0</td>\n",
       "      <td>7.0</td>\n",
       "    </tr>\n",
       "    <tr>\n",
       "      <th>145</th>\n",
       "      <td>444</td>\n",
       "      <td>579</td>\n",
       "      <td>1</td>\n",
       "      <td>164.0</td>\n",
       "      <td>79.5</td>\n",
       "      <td>21</td>\n",
       "      <td>45.0</td>\n",
       "      <td>0.857143</td>\n",
       "      <td>1.0</td>\n",
       "      <td>-1.923077</td>\n",
       "      <td>79.5</td>\n",
       "      <td>78.000000</td>\n",
       "      <td>41901.333333</td>\n",
       "      <td>0.0</td>\n",
       "      <td>466.0</td>\n",
       "      <td>0.0</td>\n",
       "      <td>3348.0</td>\n",
       "      <td>25.0</td>\n",
       "    </tr>\n",
       "    <tr>\n",
       "      <th>148</th>\n",
       "      <td>452</td>\n",
       "      <td>588</td>\n",
       "      <td>1</td>\n",
       "      <td>175.0</td>\n",
       "      <td>104.6</td>\n",
       "      <td>21</td>\n",
       "      <td>48.0</td>\n",
       "      <td>0.947368</td>\n",
       "      <td>1.0</td>\n",
       "      <td>-0.383877</td>\n",
       "      <td>104.6</td>\n",
       "      <td>104.200000</td>\n",
       "      <td>45622.173913</td>\n",
       "      <td>0.0</td>\n",
       "      <td>NaN</td>\n",
       "      <td>NaN</td>\n",
       "      <td>NaN</td>\n",
       "      <td>1.0</td>\n",
       "    </tr>\n",
       "  </tbody>\n",
       "</table>\n",
       "</div>"
      ],
      "text/plain": [
       "    customer_id user_id  gender  height  weight  disease_id   age  KPI_lesson  \\\n",
       "144         443     578       1   166.0    78.6          21  37.0    0.263158   \n",
       "145         444     579       1   164.0    79.5          21  45.0    0.857143   \n",
       "148         452     588       1   175.0   104.6          21  48.0    0.947368   \n",
       "\n",
       "     KPI_lesson_done  perte_de_poids  poids_fin   poids_ini        KPI_pas  \\\n",
       "144              0.0        2.671148       78.6   80.757143  268105.531915   \n",
       "145              1.0       -1.923077       79.5   78.000000   41901.333333   \n",
       "148              1.0       -0.383877      104.6  104.200000   45622.173913   \n",
       "\n",
       "     KPI_pas_done  KPI_MET  KPI_MET_done  MET_total  nbr_acti_faites  \n",
       "144           0.0    280.0           0.0      940.0              7.0  \n",
       "145           0.0    466.0           0.0     3348.0             25.0  \n",
       "148           0.0      NaN           NaN        NaN              1.0  "
      ]
     },
     "execution_count": 36,
     "metadata": {},
     "output_type": "execute_result"
    }
   ],
   "source": [
    "df = KPI_df[KPI_df['user_id'].isin([578,579,588])]\n",
    "df = df.drop(['KPI_MET_data', 'MET_data_total', 'MET_duree_total', 'KPI_pas_duree', 'KPI_pas_data'  ], axis = 1)\n",
    "df = df.drop(['pas_total', 'pas_duree_total', 'pas_data_total', 'KPI_MET_duree'], axis = 1)\n",
    "df = df.drop(['Periode de perte de poids', 'nombre_données', 'nombre_données', 'nbr_metrics', 'nbr_lecon_faites'], axis = 1)\n",
    "df"
   ]
  },
  {
   "cell_type": "code",
   "execution_count": null,
   "metadata": {},
   "outputs": [],
   "source": []
  }
 ],
 "metadata": {
  "colab": {
   "collapsed_sections": [],
   "name": "Notebook_KPI.ipynb",
   "provenance": [],
   "version": "0.3.2"
  },
  "kernelspec": {
   "display_name": "Python 3",
   "language": "python",
   "name": "python3"
  },
  "language_info": {
   "codemirror_mode": {
    "name": "ipython",
    "version": 3
   },
   "file_extension": ".py",
   "mimetype": "text/x-python",
   "name": "python",
   "nbconvert_exporter": "python",
   "pygments_lexer": "ipython3",
   "version": "3.6.3"
  }
 },
 "nbformat": 4,
 "nbformat_minor": 1
}
